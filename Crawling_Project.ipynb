{
 "cells": [
  {
   "cell_type": "markdown",
   "id": "3af7610e",
   "metadata": {},
   "source": [
    "# 다이소 재고 검색 프로젝트\n",
    "\n",
    "- 기능 1. 해당 상품명 검색 시 추천순(or 판매량, 리뷰많은순) 상품 5개 선택\n",
    "- 기능 2. 선택된 상품들에 대해서 리뷰 데이터 수집 (별점, 내용)\n",
    "- 기능 3. 입력받은 지역 근처 다이소 매장 검색 (3개)\n",
    "- 기능 4. 선택된 상품과 선택한 매장에 대해 재고 검색\n",
    "\n",
    "> 입력: 상품명, 지역  \n",
    "> 출력: 상품 리스트와 리뷰, 재고\n",
    "\n",
    "다이소몰 URL: https://www.daisomall.co.kr/ds"
   ]
  },
  {
   "cell_type": "markdown",
   "id": "3ae7c471",
   "metadata": {},
   "source": [
    "### 입력 받기 & 필요한 모듈 임포트"
   ]
  },
  {
   "cell_type": "code",
   "execution_count": 3,
   "id": "c49e83a8",
   "metadata": {},
   "outputs": [],
   "source": [
    "import time\n",
    "import requests\n",
    "from selenium import webdriver\n",
    "from selenium.webdriver.common.keys import Keys\n",
    "from selenium.webdriver.common.by import By\n",
    "import pandas as pd"
   ]
  },
  {
   "cell_type": "code",
   "execution_count": 22,
   "id": "0537f55e",
   "metadata": {},
   "outputs": [
    {
     "name": "stdout",
     "output_type": "stream",
     "text": [
      "상품명과 지역을 입력해주세요(공백으로 구분)\n",
      "텀블러 강남\n"
     ]
    }
   ],
   "source": [
    "product, region = map(str, input('상품명과 지역을 입력해주세요(공백으로 구분)\\n').split())"
   ]
  },
  {
   "cell_type": "markdown",
   "id": "3721bc7b",
   "metadata": {},
   "source": [
    "### 해당 지역의 다이소 매장 찾는 함수"
   ]
  },
  {
   "cell_type": "code",
   "execution_count": 33,
   "id": "37ef42aa",
   "metadata": {},
   "outputs": [],
   "source": [
    "def get_store(region, browser):\n",
    "    search_url = 'https://www.daisomall.co.kr/ms/msg/SCR_MSG_0019'\n",
    "    browser.get(search_url)\n",
    "\n",
    "    time.sleep(3) \n",
    "    \n",
    "    # 매장 검색 박스\n",
    "    search_box = browser.find_elements(by=By.CLASS_NAME, value='el-input__inner')[1] # index 0: product search box\n",
    "    search_box.clear()\n",
    "    search_box.send_keys(region)\n",
    "    search_box.send_keys(Keys.ENTER)\n",
    "\n",
    "    time.sleep(3)\n",
    "    \n",
    "    region_boxies = browser.find_elements(by=By.CLASS_NAME, value='store-map')\n",
    "\n",
    "    store_list = []\n",
    "    \n",
    "    for i, region_box in enumerate(region_boxies):\n",
    "        store = region_box.find_element(by=By.CLASS_NAME, value='tit-h5').text\n",
    "        location = region_box.find_element(by=By.XPATH, value='//*[@id=\"pane-2\"]/div/div[2]/div[{}]/div[2]/div[2]'.format(i+1)).text\n",
    "        info = region_box.find_element(by=By.CLASS_NAME, value='info-group')\n",
    "        opening = info.find_elements(by=By.TAG_NAME, value='span')[0].text.replace('영업 시간 ', '')\n",
    "        tel = info.find_elements(by=By.TAG_NAME, value='span')[1].text.replace('매장 전화 ', '')\n",
    "        \n",
    "        time.sleep(1)\n",
    "    \n",
    "        store_list.append({'store':store.split()[0], 'location':location, 'opening':opening, 'tel':tel})\n",
    "        \n",
    "        store_df = pd.DataFrame(store_list)\n",
    "        \n",
    "    return store_df"
   ]
  },
  {
   "cell_type": "markdown",
   "id": "ba3ca5a1",
   "metadata": {},
   "source": [
    "### 메인"
   ]
  },
  {
   "cell_type": "code",
   "execution_count": 34,
   "id": "682ec268",
   "metadata": {
    "scrolled": false
   },
   "outputs": [],
   "source": [
    "# 브라우저 옵션 설정\n",
    "options = webdriver.EdgeOptions()\n",
    "options.add_argument('--no-sandbox')                    \n",
    "options.add_argument('--disable-dev-shm-usage')    \n",
    "\n",
    "driver = webdriver.Edge(options = options)\n",
    "driver.maximize_window()\n",
    "\n",
    "# 함수 실행\n",
    "result = get_store('명동', driver)\n",
    "\n",
    "# 드라이버 종료\n",
    "driver.quit()"
   ]
  },
  {
   "cell_type": "code",
   "execution_count": 35,
   "id": "bd5b2f9f",
   "metadata": {
    "scrolled": false
   },
   "outputs": [
    {
     "data": {
      "text/html": [
       "<div>\n",
       "<style scoped>\n",
       "    .dataframe tbody tr th:only-of-type {\n",
       "        vertical-align: middle;\n",
       "    }\n",
       "\n",
       "    .dataframe tbody tr th {\n",
       "        vertical-align: top;\n",
       "    }\n",
       "\n",
       "    .dataframe thead th {\n",
       "        text-align: right;\n",
       "    }\n",
       "</style>\n",
       "<table border=\"1\" class=\"dataframe\">\n",
       "  <thead>\n",
       "    <tr style=\"text-align: right;\">\n",
       "      <th></th>\n",
       "      <th>store</th>\n",
       "      <th>location</th>\n",
       "      <th>opening</th>\n",
       "      <th>tel</th>\n",
       "    </tr>\n",
       "  </thead>\n",
       "  <tbody>\n",
       "    <tr>\n",
       "      <th>0</th>\n",
       "      <td>명동본점</td>\n",
       "      <td>서울특별시 중구 명동길 43 (명동1가)</td>\n",
       "      <td>10:00 ~ 22:00</td>\n",
       "      <td>1522-4400</td>\n",
       "    </tr>\n",
       "    <tr>\n",
       "      <th>1</th>\n",
       "      <td>명동역점</td>\n",
       "      <td>서울특별시 중구 퇴계로 134-1(남산동3가)</td>\n",
       "      <td>10:00 ~ 22:00</td>\n",
       "      <td>1522-4400</td>\n",
       "    </tr>\n",
       "    <tr>\n",
       "      <th>2</th>\n",
       "      <td>춘천명동점</td>\n",
       "      <td>강원도 춘천시 명동길 3-1 (조양동)</td>\n",
       "      <td>10:00 ~ 22:00</td>\n",
       "      <td>1522-4400</td>\n",
       "    </tr>\n",
       "    <tr>\n",
       "      <th>3</th>\n",
       "      <td>부산화명점</td>\n",
       "      <td>부산광역시 북구 금곡대로 358 (화명동)</td>\n",
       "      <td>10:00 ~ 22:00</td>\n",
       "      <td>1522-4400</td>\n",
       "    </tr>\n",
       "    <tr>\n",
       "      <th>4</th>\n",
       "      <td>청주봉명점</td>\n",
       "      <td>충청북도 청주시 흥덕구 덕암로30번길 8(봉명동)</td>\n",
       "      <td>10:00 ~ 22:00</td>\n",
       "      <td>043-263-7776</td>\n",
       "    </tr>\n",
       "    <tr>\n",
       "      <th>5</th>\n",
       "      <td>광명사거리점</td>\n",
       "      <td>경기도 광명시 광명로 907 (광명동)</td>\n",
       "      <td>09:30 ~ 22:00</td>\n",
       "      <td>1522-4400</td>\n",
       "    </tr>\n",
       "    <tr>\n",
       "      <th>6</th>\n",
       "      <td>대구안지랑점</td>\n",
       "      <td>대구광역시 남구 두류공원로 45(대명동)</td>\n",
       "      <td>10:00 ~ 22:00</td>\n",
       "      <td>053-657-6502</td>\n",
       "    </tr>\n",
       "    <tr>\n",
       "      <th>7</th>\n",
       "      <td>대전한밭대점</td>\n",
       "      <td>대전광역시 유성구 학하서로121번길 55-13 (덕명동)</td>\n",
       "      <td>10:00 ~ 22:00</td>\n",
       "      <td>042-825-5990</td>\n",
       "    </tr>\n",
       "    <tr>\n",
       "      <th>8</th>\n",
       "      <td>앞산순환로점</td>\n",
       "      <td>대구광역시 남구 앞산순환로 535 (대명동)</td>\n",
       "      <td>10:00 ~ 22:00</td>\n",
       "      <td>053-652-6016</td>\n",
       "    </tr>\n",
       "    <tr>\n",
       "      <th>9</th>\n",
       "      <td>영대병원역점</td>\n",
       "      <td>대구광역시 남구 대명로 297 (대명동) 1층</td>\n",
       "      <td>10:00 ~ 22:00</td>\n",
       "      <td>053-626-5665</td>\n",
       "    </tr>\n",
       "  </tbody>\n",
       "</table>\n",
       "</div>"
      ],
      "text/plain": [
       "    store                         location        opening           tel\n",
       "0    명동본점           서울특별시 중구 명동길 43 (명동1가)  10:00 ~ 22:00     1522-4400\n",
       "1    명동역점        서울특별시 중구 퇴계로 134-1(남산동3가)  10:00 ~ 22:00     1522-4400\n",
       "2   춘천명동점            강원도 춘천시 명동길 3-1 (조양동)  10:00 ~ 22:00     1522-4400\n",
       "3   부산화명점          부산광역시 북구 금곡대로 358 (화명동)  10:00 ~ 22:00     1522-4400\n",
       "4   청주봉명점      충청북도 청주시 흥덕구 덕암로30번길 8(봉명동)  10:00 ~ 22:00  043-263-7776\n",
       "5  광명사거리점            경기도 광명시 광명로 907 (광명동)  09:30 ~ 22:00     1522-4400\n",
       "6  대구안지랑점           대구광역시 남구 두류공원로 45(대명동)  10:00 ~ 22:00  053-657-6502\n",
       "7  대전한밭대점  대전광역시 유성구 학하서로121번길 55-13 (덕명동)  10:00 ~ 22:00  042-825-5990\n",
       "8  앞산순환로점         대구광역시 남구 앞산순환로 535 (대명동)  10:00 ~ 22:00  053-652-6016\n",
       "9  영대병원역점        대구광역시 남구 대명로 297 (대명동) 1층  10:00 ~ 22:00  053-626-5665"
      ]
     },
     "execution_count": 35,
     "metadata": {},
     "output_type": "execute_result"
    }
   ],
   "source": [
    "result"
   ]
  },
  {
   "cell_type": "markdown",
   "id": "6deb0707",
   "metadata": {},
   "source": [
    "---"
   ]
  },
  {
   "cell_type": "markdown",
   "id": "5e62756b",
   "metadata": {},
   "source": [
    "### 상품명과 매장명을 통한 재고 검색 함수"
   ]
  },
  {
   "cell_type": "code",
   "execution_count": 1,
   "id": "dac14cda",
   "metadata": {},
   "outputs": [],
   "source": [
    "product, store_name = '텀블러', '명동본점'"
   ]
  },
  {
   "cell_type": "code",
   "execution_count": null,
   "id": "b535bd0f",
   "metadata": {},
   "outputs": [],
   "source": [
    "# 브라우저 옵션 설정\n",
    "options = webdriver.EdgeOptions()\n",
    "options.add_argument('--no-sandbox')                    \n",
    "options.add_argument('--disable-dev-shm-usage')    \n",
    "\n",
    "driver = webdriver.Edge(options = options)\n",
    "driver.maximize_window()\n"
   ]
  },
  {
   "cell_type": "code",
   "execution_count": 22,
   "id": "f0aa0386",
   "metadata": {},
   "outputs": [],
   "source": [
    "def get_stock(product_no, store, browser):\n",
    "    url = 'https://www.daisomall.co.kr/ms/msg/SCR_MSG_0019'\n",
    "    browser.get(url)\n",
    "    time.sleep(2)\n",
    "    \n",
    "    # step 0. 광고 닫기\n",
    "    btn = browser.find_element(by=By.XPATH, value='//*[@id=\"btn-close-nday\"]')\n",
    "    btn.click()\n",
    "    time.sleep(1)\n",
    "    \n",
    "    # step 1. 매장 상품 찾기 클릭\n",
    "    btn = browser.find_element(by=By.XPATH, value='//*[@id=\"tab-3\"]/button')\n",
    "    btn.click()\n",
    "    time.sleep(1)\n",
    "    \n",
    "    # step 2. 특정 상품 검색 및 선택\n",
    "    search_box = browser.find_element(by=By.XPATH, value='//*[@id=\"pane-3\"]/div/div[2]/div[1]/form/div/div/div/div/input')\n",
    "    search_box.clear()\n",
    "    search_box.send_keys(product_no)\n",
    "    search_box.send_keys(Keys.ENTER)\n",
    "    time.sleep(1)\n",
    "    \n",
    "    search_btn = browser.find_element(by=By.XPATH, value='//*[@id=\"__layout\"]/section/div[1]/div/div[3]/div/div[2]/div/div[1]/button')\n",
    "    search_btn.click()\n",
    "    time.sleep(1)\n",
    "    \n",
    "    check_btn = browser.find_element(by=By.XPATH, value='//*[@id=\"__layout\"]/section/div[1]/div/div[3]/div/div[2]/div/div[2]/div[1]/div[1]/label')\n",
    "    check_btn.click()\n",
    "    time.sleep(1)\n",
    "    \n",
    "    choice_btn = browser.find_element(by=By.XPATH, value='//*[@id=\"__layout\"]/section/div[1]/div/div[3]/div/div[3]/div/button')\n",
    "    choice_btn.click()\n",
    "    time.sleep(1)\n",
    "    \n",
    "    # step 3. 해당 매장 검색 및 선택\n",
    "    search_box = browser.find_element(by=By.XPATH, value='//*[@id=\"pane-3\"]/div/div[2]/div[2]/form/div/div/div/div/div[1]/input')\n",
    "    search_box.clear()\n",
    "    search_box.send_keys(store)\n",
    "    search_box.send_keys(Keys.ENTER)\n",
    "    time.sleep(1)\n",
    "    \n",
    "    check_btn = browser.find_element(by=By.XPATH, value='//*[@id=\"__layout\"]/section/div[1]/div/div[4]/div/div[2]/div[2]/div/label/span[1]/span')\n",
    "    check_btn.click()\n",
    "    time.sleep(1)\n",
    "    \n",
    "    choice_btn = browser.find_element(by=By.XPATH, value='//*[@id=\"__layout\"]/section/div[1]/div/div[4]/div/div[3]/div/button')\n",
    "    choice_btn.click()\n",
    "    time.sleep(1)\n",
    "    \n",
    "    # step 4. 재고 정보 가져오기\n",
    "    stock = browser.find_element(by=By.XPATH, value='//*[@id=\"pane-3\"]/div/div[2]/div[3]/div/div[1]/div[4]/em[2]').text\n",
    "    zone = browser.find_element(by=By.XPATH, value='//*[@id=\"pane-3\"]/div/div[2]/div[3]/div/div[1]/div[4]/em[1]').text\n",
    "    \n",
    "    if stock[3:5] == '품절':\n",
    "        stock = '품절'\n",
    "    else:\n",
    "        stock = ' '.join(stock.split()[1:3])\n",
    "        \n",
    "    zone = zone.split()[-1]\n",
    "        \n",
    "    return stock, zone\n",
    "    "
   ]
  },
  {
   "cell_type": "code",
   "execution_count": 23,
   "id": "68405650",
   "metadata": {
    "scrolled": true
   },
   "outputs": [
    {
     "name": "stdout",
     "output_type": "stream",
     "text": [
      "10개 이하 17\n"
     ]
    }
   ],
   "source": [
    "# test \n",
    "# >> input - product number\n",
    "\n",
    "driver = webdriver.Edge()\n",
    "\n",
    "s, z = get_stock('1036158', '명동본점', driver)\n",
    "\n",
    "print(s, z)\n",
    "\n",
    "driver.quit()"
   ]
  },
  {
   "cell_type": "code",
   "execution_count": 24,
   "id": "b358f5ab",
   "metadata": {},
   "outputs": [
    {
     "name": "stdout",
     "output_type": "stream",
     "text": [
      "품절 23\n"
     ]
    }
   ],
   "source": [
    "# test \n",
    "# >> input - product number\n",
    "\n",
    "driver = webdriver.Edge()\n",
    "\n",
    "s, z = get_stock('1036158', '부천본점', driver)\n",
    "\n",
    "print(s, z)\n",
    "\n",
    "driver.quit()"
   ]
  },
  {
   "cell_type": "markdown",
   "id": "5a8300a9",
   "metadata": {},
   "source": [
    "---"
   ]
  },
  {
   "cell_type": "markdown",
   "id": "35c73afc",
   "metadata": {},
   "source": [
    "### 유저 시나리오"
   ]
  },
  {
   "cell_type": "code",
   "execution_count": null,
   "id": "64620e0a",
   "metadata": {},
   "outputs": [],
   "source": [
    "user_input1, user_input2 = map(int, input('찾을 상품과 현재 위치를 입력하세요').split())\n",
    "\n",
    "# product_data -> 상품명, 가격, 링크, 평균별점\n",
    "product_data = get_product_info(user_input)\n",
    "\n",
    "# review_data -> 리뷰 텍스트, 별점\n",
    "review_data = get_review(product_data['link'])\n",
    "\n",
    "user_input3 = list(input('재고를 조회할 상품 번호를 선택해주세요(복수 선택 시 공백으로 구분)').split())\n",
    "\n",
    "# store_data -> 매장명, 매장 위치\n",
    "store_data = get_store(user_input2)\n",
    "\n",
    "# inventory -> 해당 상품과 매장의 재고 정보\n",
    "inventory = get_stock(product, store)"
   ]
  }
 ],
 "metadata": {
  "kernelspec": {
   "display_name": "GenAI",
   "language": "python",
   "name": "genai"
  },
  "language_info": {
   "codemirror_mode": {
    "name": "ipython",
    "version": 3
   },
   "file_extension": ".py",
   "mimetype": "text/x-python",
   "name": "python",
   "nbconvert_exporter": "python",
   "pygments_lexer": "ipython3",
   "version": "3.12.4"
  }
 },
 "nbformat": 4,
 "nbformat_minor": 5
}
